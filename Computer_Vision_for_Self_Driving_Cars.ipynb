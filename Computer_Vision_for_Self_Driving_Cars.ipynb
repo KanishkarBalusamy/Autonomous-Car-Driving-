{
  "nbformat": 4,
  "nbformat_minor": 0,
  "metadata": {
    "colab": {
      "provenance": []
    },
    "kernelspec": {
      "name": "python3",
      "display_name": "Python 3"
    },
    "language_info": {
      "name": "python"
    }
  },
  "cells": [
    {
      "cell_type": "code",
      "execution_count": null,
      "metadata": {
        "colab": {
          "base_uri": "https://localhost:8080/",
          "height": 408
        },
        "id": "-MEQnkWzueD5",
        "outputId": "68bac7b0-5904-4cde-cc49-dfbf157175f6"
      },
      "outputs": [
        {
          "output_type": "error",
          "ename": "DisabledFunctionError",
          "evalue": "ignored",
          "traceback": [
            "\u001b[0;31m---------------------------------------------------------------------------\u001b[0m",
            "\u001b[0;31mDisabledFunctionError\u001b[0m                     Traceback (most recent call last)",
            "\u001b[0;32m<ipython-input-3-8a52cfd5d5ea>\u001b[0m in \u001b[0;36m<module>\u001b[0;34m\u001b[0m\n\u001b[1;32m      5\u001b[0m \u001b[0;34m\u001b[0m\u001b[0m\n\u001b[1;32m      6\u001b[0m \u001b[0mimage\u001b[0m \u001b[0;34m=\u001b[0m \u001b[0mcv2\u001b[0m\u001b[0;34m.\u001b[0m\u001b[0mimread\u001b[0m\u001b[0;34m(\u001b[0m\u001b[0;34m'test_image.jpg'\u001b[0m\u001b[0;34m)\u001b[0m\u001b[0;34m\u001b[0m\u001b[0;34m\u001b[0m\u001b[0m\n\u001b[0;32m----> 7\u001b[0;31m \u001b[0mcv2\u001b[0m\u001b[0;34m.\u001b[0m\u001b[0mimshow\u001b[0m\u001b[0;34m(\u001b[0m\u001b[0;34m'input_image'\u001b[0m\u001b[0;34m,\u001b[0m \u001b[0mimage\u001b[0m\u001b[0;34m)\u001b[0m\u001b[0;34m\u001b[0m\u001b[0;34m\u001b[0m\u001b[0m\n\u001b[0m\u001b[1;32m      8\u001b[0m \u001b[0mcv2\u001b[0m\u001b[0;34m.\u001b[0m\u001b[0mwaitKey\u001b[0m\u001b[0;34m(\u001b[0m\u001b[0;36m0\u001b[0m\u001b[0;34m)\u001b[0m\u001b[0;34m\u001b[0m\u001b[0;34m\u001b[0m\u001b[0m\n\u001b[1;32m      9\u001b[0m \u001b[0mcv2\u001b[0m\u001b[0;34m.\u001b[0m\u001b[0mdestroyAllWindows\u001b[0m\u001b[0;34m(\u001b[0m\u001b[0;34m)\u001b[0m\u001b[0;34m\u001b[0m\u001b[0;34m\u001b[0m\u001b[0m\n",
            "\u001b[0;32m/usr/local/lib/python3.8/dist-packages/google/colab/_import_hooks/_cv2.py\u001b[0m in \u001b[0;36mwrapped\u001b[0;34m(*args, **kwargs)\u001b[0m\n\u001b[1;32m     46\u001b[0m   \u001b[0;32mdef\u001b[0m \u001b[0mwrapped\u001b[0m\u001b[0;34m(\u001b[0m\u001b[0;34m*\u001b[0m\u001b[0margs\u001b[0m\u001b[0;34m,\u001b[0m \u001b[0;34m**\u001b[0m\u001b[0mkwargs\u001b[0m\u001b[0;34m)\u001b[0m\u001b[0;34m:\u001b[0m\u001b[0;34m\u001b[0m\u001b[0;34m\u001b[0m\u001b[0m\n\u001b[1;32m     47\u001b[0m     \u001b[0;32mif\u001b[0m \u001b[0;32mnot\u001b[0m \u001b[0mos\u001b[0m\u001b[0;34m.\u001b[0m\u001b[0menviron\u001b[0m\u001b[0;34m.\u001b[0m\u001b[0mget\u001b[0m\u001b[0;34m(\u001b[0m\u001b[0menv_var\u001b[0m\u001b[0;34m,\u001b[0m \u001b[0;32mFalse\u001b[0m\u001b[0;34m)\u001b[0m\u001b[0;34m:\u001b[0m\u001b[0;34m\u001b[0m\u001b[0;34m\u001b[0m\u001b[0m\n\u001b[0;32m---> 48\u001b[0;31m       \u001b[0;32mraise\u001b[0m \u001b[0mDisabledFunctionError\u001b[0m\u001b[0;34m(\u001b[0m\u001b[0mmessage\u001b[0m\u001b[0;34m,\u001b[0m \u001b[0mname\u001b[0m \u001b[0;32mor\u001b[0m \u001b[0mfunc\u001b[0m\u001b[0;34m.\u001b[0m\u001b[0m__name__\u001b[0m\u001b[0;34m)\u001b[0m\u001b[0;34m\u001b[0m\u001b[0;34m\u001b[0m\u001b[0m\n\u001b[0m\u001b[1;32m     49\u001b[0m     \u001b[0;32mreturn\u001b[0m \u001b[0mfunc\u001b[0m\u001b[0;34m(\u001b[0m\u001b[0;34m*\u001b[0m\u001b[0margs\u001b[0m\u001b[0;34m,\u001b[0m \u001b[0;34m**\u001b[0m\u001b[0mkwargs\u001b[0m\u001b[0;34m)\u001b[0m\u001b[0;34m\u001b[0m\u001b[0;34m\u001b[0m\u001b[0m\n\u001b[1;32m     50\u001b[0m \u001b[0;34m\u001b[0m\u001b[0m\n",
            "\u001b[0;31mDisabledFunctionError\u001b[0m: cv2.imshow() is disabled in Colab, because it causes Jupyter sessions\nto crash; see https://github.com/jupyter/notebook/issues/3935.\nAs a substitution, consider using\n  from google.colab.patches import cv2_imshow\n"
          ],
          "errorDetails": {
            "actions": [
              {
                "action": "open_snippet",
                "actionText": "Search Snippets for cv2.imshow",
                "snippetFilter": "cv2.imshow"
              }
            ]
          }
        }
      ],
      "source": [
        "import cv2\n",
        "from google.colab.patches import cv2_imshow\n",
        "\n",
        "#Displaying image\n",
        "\n",
        "image = cv2.imread('test_image.jpg')\n",
        "cv2.imshow('input_image', image)\n",
        "cv2.waitKey(0)\n",
        "cv2.destroyAllWindows()"
      ]
    },
    {
      "cell_type": "code",
      "source": [
        "import cv2\n",
        "import numpy as np"
      ],
      "metadata": {
        "id": "qKfbVfJdui2h"
      },
      "execution_count": null,
      "outputs": []
    },
    {
      "cell_type": "code",
      "source": [
        "image = cv2.imread('test_image.jpg')\n",
        "lanelines_image = np.copy(image)\n",
        "gray_conversion= cv2.cvtColor(lanelines_image, cv2.COLOR_RGB2GRAY)"
      ],
      "metadata": {
        "id": "Wv2AQNv4umlR"
      },
      "execution_count": null,
      "outputs": []
    },
    {
      "cell_type": "code",
      "source": [
        "\n",
        "blur_conversion = cv2.GaussianBlur(gray_conversion, (5,5),0)\n"
      ],
      "metadata": {
        "id": "iHadTCOBusrJ"
      },
      "execution_count": null,
      "outputs": []
    },
    {
      "cell_type": "code",
      "source": [
        "cv2.imshow('input_image', blur_conversion)\n",
        "cv2.waitKey(0)\n",
        "cv2.destroyAllWindows()"
      ],
      "metadata": {
        "id": "DaC-r3fOuuph"
      },
      "execution_count": null,
      "outputs": []
    },
    {
      "cell_type": "code",
      "source": [
        "canny_conversion = cv2.Canny(blur_conversion, 50,155)"
      ],
      "metadata": {
        "id": "pbIrYkL3uyyR"
      },
      "execution_count": null,
      "outputs": []
    },
    {
      "cell_type": "code",
      "source": [
        "cv2.imshow('input_image', canny_conversion)\n",
        "cv2.waitKey(0)\n",
        "cv2.destroyAllWindows()"
      ],
      "metadata": {
        "id": "NkPmbwOhu0Bh"
      },
      "execution_count": null,
      "outputs": []
    },
    {
      "cell_type": "code",
      "source": [
        "import matplotlib.pyplot as plt"
      ],
      "metadata": {
        "id": "LCt9mHjwu1Tc"
      },
      "execution_count": null,
      "outputs": []
    },
    {
      "cell_type": "code",
      "source": [
        "def canny_edge(image):\n",
        "          gray_conversion= cv2.cvtColor(image, cv2.COLOR_RGB2GRAY)\n",
        "          blur_conversion = cv2.GaussianBlur(gray_conversion, (5,5),0)\n",
        "          canny_conversion = cv2.Canny(blur_conversion, 50,150)\n",
        "          return canny_conversion"
      ],
      "metadata": {
        "id": "KjIt_OESu2iB"
      },
      "execution_count": null,
      "outputs": []
    },
    {
      "cell_type": "code",
      "source": [
        "def reg_of_interest(image):\n",
        "        Image_height = image.shape[0]\n",
        "        polygons = np.array([[(200, Image_height), (1100, Image_height), (550, 250)]])\n",
        "        image_mask = np.zeros_like(image)\n",
        "        cv2.fillPoly(image_mask, polygons, 255)\n",
        "        return image_mask"
      ],
      "metadata": {
        "id": "c6KEf25au-fx"
      },
      "execution_count": null,
      "outputs": []
    },
    {
      "cell_type": "code",
      "source": [
        "image = cv2.imread('test_image.jpg')\n",
        "lanelines_image = np.copy(image)\n",
        "canny_conversion = canny_edge(lanelines_image)"
      ],
      "metadata": {
        "id": "kuyIg4pivAX5"
      },
      "execution_count": null,
      "outputs": []
    },
    {
      "cell_type": "code",
      "source": [
        "cv2.imshow('result', reg_of_interest(canny_conversion))\n",
        "cv2.waitKey(0)\n",
        "cv2.destroyAllWindows()"
      ],
      "metadata": {
        "id": "HcV7FKVCvCti"
      },
      "execution_count": null,
      "outputs": []
    },
    {
      "cell_type": "code",
      "source": [
        "import cv2\n",
        "import numpy as np\n",
        "import matplotlib.pyplot as plt"
      ],
      "metadata": {
        "id": "0P4qXEFyvEmp"
      },
      "execution_count": null,
      "outputs": []
    },
    {
      "cell_type": "code",
      "source": [
        "def canny_edge(image):\n",
        "         gray_conversion= cv2.cvtColor(image, cv2.COLOR_RGB2GRAY)\n",
        "         blur_conversion = cv2.GaussianBlur(gray_conversion, (5,5),0)\n",
        "         canny_conversion = cv2.Canny(blur_conversion, 50,150)\n",
        "         return canny_conversion"
      ],
      "metadata": {
        "id": "f5XBf0ynvFtS"
      },
      "execution_count": null,
      "outputs": []
    },
    {
      "cell_type": "code",
      "source": [
        "def reg_of_interest(image):\n",
        "         image_height = image.shape[0]\n",
        "         polygons = np.array([[(200, image_height), (1100, image_height), (551, 250)]])\n",
        "         image_mask = np.zeros_like(image)\n",
        "         cv2.fillPoly(image_mask, polygons, 255)\n",
        "         masking_image = cv2.bitwise_and(image,image_mask)\n",
        "         return masking_image"
      ],
      "metadata": {
        "id": "38N1oPnBvHAh"
      },
      "execution_count": null,
      "outputs": []
    },
    {
      "cell_type": "code",
      "source": [
        "image = cv2.imread('test_image.jpg')"
      ],
      "metadata": {
        "id": "PnHl5F5ovIS5"
      },
      "execution_count": null,
      "outputs": []
    },
    {
      "cell_type": "code",
      "source": [
        "lanelines_image = np.copy(image)"
      ],
      "metadata": {
        "id": "G5_1hzdxvJR4"
      },
      "execution_count": null,
      "outputs": []
    },
    {
      "cell_type": "code",
      "source": [
        "canny_conversion = canny_edge(lanelines_image)"
      ],
      "metadata": {
        "id": "q97xDWCYvKRB"
      },
      "execution_count": null,
      "outputs": []
    },
    {
      "cell_type": "code",
      "source": [
        "cropped_image = reg_of_interest(canny_conversion)"
      ],
      "metadata": {
        "id": "-jF2n51uvLUx"
      },
      "execution_count": null,
      "outputs": []
    },
    {
      "cell_type": "code",
      "source": [
        "cv2.imshow('result', cropped_image)\n",
        "cv2.waitKey(0)\n",
        "cv2.destroyAllWindows()"
      ],
      "metadata": {
        "id": "yH1JgryyvMh5"
      },
      "execution_count": null,
      "outputs": []
    },
    {
      "cell_type": "code",
      "source": [
        "#Applying the Hough transform\n",
        "\n",
        "import cv2\n",
        "import numpy as np\n",
        "import matplotlib.pyplot as plt\n"
      ],
      "metadata": {
        "id": "97xNNKZ5vNsK"
      },
      "execution_count": null,
      "outputs": []
    },
    {
      "cell_type": "code",
      "source": [
        "def canny_egde(image):\n",
        "         gray_conversion= cv2.cvtColor(image, cv2.COLOR_RGB2GRAY)\n",
        "         blur_conversion = cv2.GaussianBlur(gray_conversion, (5,5),0)\n",
        "         canny_conversion = cv2.Canny(blur_conversion, 50,150)\n",
        "         return canny_conversion"
      ],
      "metadata": {
        "id": "bhs9aP0qvO_4"
      },
      "execution_count": null,
      "outputs": []
    },
    {
      "cell_type": "code",
      "source": [
        "def reg_of_interest(image):\n",
        "         image_height = image.shape[0]\n",
        "         polygons = np.array([[(200, image_height), (1100, image_height), (551, 250)]])\n",
        "         image_mask = np.zeros_like(image)\n",
        "         cv2.fillPoly(image_mask, polygons, 255)\n",
        "         masking_image = cv2.bitwise_and(image,image_mask)\n",
        "         return masking_image"
      ],
      "metadata": {
        "id": "FUKPsE9uvRRw"
      },
      "execution_count": null,
      "outputs": []
    },
    {
      "cell_type": "code",
      "source": [
        "def show_lines(image, lines):\n",
        "            lines_image = np.zeros_like(image)\n",
        "            if lines is not None:\n",
        "                for line in lines:\n",
        "                    X1, Y1, X2, Y2 = line.reshape(4)\n",
        "                    cv2.line(lines_image, (X1, Y1), (X2, Y2), (255,0,0), 10)\n",
        "            return lines_image"
      ],
      "metadata": {
        "id": "nVOpWfgTvowy"
      },
      "execution_count": null,
      "outputs": []
    },
    {
      "cell_type": "code",
      "source": [
        "image = cv2.imread('test_image.jpg')"
      ],
      "metadata": {
        "id": "YXopTozIvqqw"
      },
      "execution_count": null,
      "outputs": []
    },
    {
      "cell_type": "code",
      "source": [
        "lanelines_image = np.copy(image)"
      ],
      "metadata": {
        "id": "ufC8NSkIvsV4"
      },
      "execution_count": null,
      "outputs": []
    },
    {
      "cell_type": "code",
      "source": [
        "canny_conv = canny_edge(lanelines_image)"
      ],
      "metadata": {
        "id": "77c7R7havtN4"
      },
      "execution_count": null,
      "outputs": []
    },
    {
      "cell_type": "code",
      "source": [
        "cropped_image = reg_of_interest(canny_conv)"
      ],
      "metadata": {
        "id": "xfk7iZW3vuSR"
      },
      "execution_count": null,
      "outputs": []
    },
    {
      "cell_type": "code",
      "source": [
        "lane_lines = cv2.HoughLinesP(cropped_image, 2, np.pi/180, 100, np.array([]), minLineLength= 40, maxLineGap=5)"
      ],
      "metadata": {
        "id": "F9w2k_ZLvxzh"
      },
      "execution_count": null,
      "outputs": []
    },
    {
      "cell_type": "code",
      "source": [
        "linelines_image = show_lines(lanelines_image, lane_lines)"
      ],
      "metadata": {
        "id": "TeerV2UnvzP5"
      },
      "execution_count": null,
      "outputs": []
    },
    {
      "cell_type": "code",
      "source": [
        "cv2.imshow('result', linelines_image)\n",
        "cv2.waitKey(0)\n",
        "cv2.destroyAllWindows()"
      ],
      "metadata": {
        "id": "pNnjEGfuv29x"
      },
      "execution_count": null,
      "outputs": []
    },
    {
      "cell_type": "code",
      "source": [
        "image = cv2.imread('test_image.jpg')\n",
        "lane_image = np.copy(image)\n",
        "canny = canny_edge(lane_image)\n",
        "cropped_image = reg_of_interest(canny)\n",
        "lines = cv2.HoughLinesP(cropped_image, 2, np.pi/180, 100, np.array([]), minLineLength= 40, maxLineGap=5)\n",
        "line_image = show_lines(lane_image, lines)\n",
        "combine_image = cv2.addWeighted(lane_image, 0.8, line_image, 1, 1)"
      ],
      "metadata": {
        "id": "bvl4Kmmiv4ZR"
      },
      "execution_count": null,
      "outputs": []
    },
    {
      "cell_type": "code",
      "source": [
        "cv2.imshow('result', combine_image)\n",
        "cv2.waitKey(0)\n",
        "cv2.destroyAllWindows()"
      ],
      "metadata": {
        "id": "ejhtmG0Xv5lI"
      },
      "execution_count": null,
      "outputs": []
    },
    {
      "cell_type": "code",
      "source": [
        "#Optimization the detected road markings\n",
        "\n",
        "import cv2\n",
        "import numpy as np\n",
        "import matplotlib.pyplot as plt"
      ],
      "metadata": {
        "id": "DSOcLXDQv7Tp"
      },
      "execution_count": null,
      "outputs": []
    },
    {
      "cell_type": "code",
      "source": [
        "def make_coordinates(image, line_parameters):\n",
        "          slope, intercept = line_parameters\n",
        "          y1 = image.shape[0]\n",
        "          y2 = int(y1*(3/5))\n",
        "          x1 = int((y1- intercept)/slope)\n",
        "          x2 = int((y2 - intercept)/slope)\n",
        "          return np.array([x1, y1, x2, y2])"
      ],
      "metadata": {
        "id": "tuNpzfuzv8ZR"
      },
      "execution_count": null,
      "outputs": []
    },
    {
      "cell_type": "code",
      "source": [
        "def average_slope_intercept(image, lines):\n",
        "          left_fit = []\n",
        "          right_fit = []\n",
        "          for line in lines:\n",
        "            x1, y1, x2, y2 = line.reshape(4)\n",
        "            parameter = np.polyfit((x1, x2), (y1, y2), 1)\n",
        "            slope = parameter[0]\n",
        "            intercept = parameter[1]\n",
        "            if slope < 0:\n",
        "              left_fit.append((slope, intercept))\n",
        "            else:\n",
        "              right_fit.append((slope, intercept))\n",
        "          left_fit_average =np.average(left_fit, axis=0)\n",
        "          right_fit_average = np.average(right_fit, axis =0)\n",
        "          left_line =make_coordinates(image, left_fit_average)\n",
        "          right_line = make_coordinates(image, right_fit_average)\n",
        "  \n",
        "          return np.array([left_line, right_line])"
      ],
      "metadata": {
        "id": "d6iQ7Uz5v9nw"
      },
      "execution_count": null,
      "outputs": []
    },
    {
      "cell_type": "code",
      "source": [
        "def canny_edge(image):\n",
        "         gray_coversion= cv2.cvtColor(image, cv2.COLOR_RGB2GRAY)\n",
        "         blur_conversion = cv2.GaussianBlur(gray_conversion, (5,5),0)\n",
        "         canny_conversion = cv2.Canny(blur_conversion, 50,150)\n",
        "         return canny_conversion"
      ],
      "metadata": {
        "id": "PWO7hEqKv-4p"
      },
      "execution_count": null,
      "outputs": []
    },
    {
      "cell_type": "code",
      "source": [
        "def show_lines(image, lines):\n",
        "          lanelines_image = np.zeros_like(image)\n",
        "          if lines is not None:\n",
        "            for line in lines:\n",
        "              X1, Y1, X2, Y2 = line.reshape(4)\n",
        "              cv2.line(lanelines_image, (X1, Y1), (X2, Y2), (255,0,0), 10)\n",
        "          return lanelines_image\n"
      ],
      "metadata": {
        "id": "iIp3xptxwAPI"
      },
      "execution_count": null,
      "outputs": []
    },
    {
      "cell_type": "code",
      "source": [
        "def reg_of_interest(image):\n",
        "          image_height = image.shape[0]\n",
        "          polygons = np.array([[(200, image_height), (1100, image_height), (551, 250)]])\n",
        "          image_mask = np.zeros_like(image)\n",
        "          cv2.fillPoly(image_mask, polygons, 255)\n",
        "          masking_image = cv2.bitwise_and(image,image_mask)\n",
        "          return masking_image"
      ],
      "metadata": {
        "id": "KF8w92vhwBjR"
      },
      "execution_count": null,
      "outputs": []
    },
    {
      "cell_type": "code",
      "source": [
        "image = cv2.imread('test_image.jpg')"
      ],
      "metadata": {
        "id": "aEVxgkkpwDUh"
      },
      "execution_count": null,
      "outputs": []
    },
    {
      "cell_type": "code",
      "source": [
        "lanelines_image = np.copy(image)"
      ],
      "metadata": {
        "id": "UUbI8fWnwEO4"
      },
      "execution_count": null,
      "outputs": []
    },
    {
      "cell_type": "code",
      "source": [
        "canny_image = canny_edge(lanelines_image)"
      ],
      "metadata": {
        "id": "sIJUfhYWwFQB"
      },
      "execution_count": null,
      "outputs": []
    },
    {
      "cell_type": "code",
      "source": [
        "cropped_image = reg_of_interest(canny_image)"
      ],
      "metadata": {
        "id": "sB607OjswGTh"
      },
      "execution_count": null,
      "outputs": []
    },
    {
      "cell_type": "code",
      "source": [
        "lines = cv2.HoughLinesP(cropped_image, 2, np.pi/180, 100, np.array([]), minLineLength= 40, maxLineGap=5)"
      ],
      "metadata": {
        "id": "GMl-ML0dwIux"
      },
      "execution_count": null,
      "outputs": []
    },
    {
      "cell_type": "code",
      "source": [
        "averaged_lines = average_slope_intercept(lanelines_image, lines)"
      ],
      "metadata": {
        "id": "7bHSiy8KwJw5"
      },
      "execution_count": null,
      "outputs": []
    },
    {
      "cell_type": "code",
      "source": [
        "line_image = show_lines(lanelines_image, averaged_lines)"
      ],
      "metadata": {
        "id": "9AhE103QwLao"
      },
      "execution_count": null,
      "outputs": []
    },
    {
      "cell_type": "code",
      "source": [
        "combine_image = cv2.addWeighted(lanelines_image, 0.8, line_image, 1, 1)"
      ],
      "metadata": {
        "id": "qCQFkTJNwMhg"
      },
      "execution_count": null,
      "outputs": []
    },
    {
      "cell_type": "code",
      "source": [
        "cv2.imshow('result', combine_image)\n",
        "cv2.waitKey(0)\n",
        "cv2.destroyAllWindows()"
      ],
      "metadata": {
        "id": "L1oR8vWgwOKQ"
      },
      "execution_count": null,
      "outputs": []
    },
    {
      "cell_type": "code",
      "source": [
        "#Detecting road markings in video\n",
        "\n",
        "import cv2\n",
        "import numpy as np\n",
        "import matplotlib.pyplot as plt"
      ],
      "metadata": {
        "id": "wE5YKovnwPYx"
      },
      "execution_count": null,
      "outputs": []
    },
    {
      "cell_type": "code",
      "source": [
        "def make_coordinates(image, line_parameters):\n",
        "          try:\n",
        "            slope, intercept = line_parameters\n",
        "          except TypeError:\n",
        "            slope, intercept = 0.001,0\n",
        "          #slope, intercept = line_parameters\n",
        "          y1 = image.shape[0]\n",
        "          y2 = int(y1*(3/5))\n",
        "          x1 = int((y1- intercept)/slope)\n",
        "          x2 = int((y2 - intercept)/slope)\n",
        "          return np.array([x1, y1, x2, y2])"
      ],
      "metadata": {
        "id": "6Rec5oMwwQmB"
      },
      "execution_count": null,
      "outputs": []
    },
    {
      "cell_type": "code",
      "source": [
        "def average_slope_intercept(image, lines):\n",
        "          left_fit = []\n",
        "          right_fit = []\n",
        "          for line in lines:\n",
        "            x1, y1, x2, y2 = line.reshape(4)\n",
        "            parameter = np.polyfit((x1, x2), (y1, y2), 1)\n",
        "            slope = parameter[0]\n",
        "            intercept = parameter[1]\n",
        "            if slope < 0:\n",
        "              left_fit.append((slope, intercept))\n",
        "            else:\n",
        "              right_fit.append((slope, intercept))\n",
        "          left_fit_average =np.average(left_fit, axis=0)\n",
        "          right_fit_average = np.average(right_fit, axis =0)\n",
        "          left_line =make_coordinates(image, left_fit_average)\n",
        "          right_line = make_coordinates(image, right_fit_average)\n",
        "  \n",
        "          return np.array([left_line, right_line])"
      ],
      "metadata": {
        "id": "1kogSWEhwR2o"
      },
      "execution_count": null,
      "outputs": []
    },
    {
      "cell_type": "code",
      "source": [
        "\n",
        "def canny_edge(image):\n",
        "         gray_conversion= cv2.cvtColor(image, cv2.COLOR_RGB2GRAY)\n",
        "         blur_conversion = cv2.GaussianBlur(gray_conversion, (5,5),0)\n",
        "         canny_conversion = cv2.Canny(blur_conversion, 50,150)\n",
        "         return canny_conversion"
      ],
      "metadata": {
        "id": "Wrwp0__EwTNo"
      },
      "execution_count": null,
      "outputs": []
    },
    {
      "cell_type": "code",
      "source": [
        "def show_lines(image, lines):\n",
        "          line_image = np.zeros_like(image)\n",
        "          if lines is not None:\n",
        "            for line in lines:\n",
        "              x1, y1, x2, y2 = line.reshape(4)\n",
        "              cv2.line(line_image, (x1, y1), (x2, y2), (255,0,0), 10)\n",
        "          return line_image"
      ],
      "metadata": {
        "id": "KVj-E5bKwUQu"
      },
      "execution_count": null,
      "outputs": []
    },
    {
      "cell_type": "code",
      "source": [
        "def reg_of_interest(image):\n",
        "          image_height = image.shape[0]\n",
        "          polygons = np.array([[(200, image_height), (1100, image_height), (550, 250)]])\n",
        "          image_mask = np.zeros_like(image)\n",
        "          cv2.fillPoly(image_mask, polygons, 255)\n",
        "          masking_image = cv2.bitwise_and(image,image_mask)\n",
        "          return masking_image"
      ],
      "metadata": {
        "id": "7OteVNbGwVkg"
      },
      "execution_count": null,
      "outputs": []
    },
    {
      "cell_type": "code",
      "source": [
        "cap = cv2.VideoCapture(\"test2.mp4\")"
      ],
      "metadata": {
        "id": "7FoNVY78wWlo"
      },
      "execution_count": null,
      "outputs": []
    },
    {
      "cell_type": "code",
      "source": [
        "while(cap.isOpened()):\n",
        "            _, frame = cap.read()\n",
        "            canny_image = canny_edge(frame)\n",
        "            cropped_canny = reg_of_interest(canny_image)\n",
        "            lines = cv2.HoughLinesP(cropped_canny, 2, np.pi/180, 100,             np.array([]), minLineLength=40,maxLineGap=5)\n",
        "            averaged_lines = average_slope_intercept(frame, lines)\n",
        "            line_image = show_lines(frame, averaged_lines)\n",
        "            combo_image = cv2.addWeighted(frame, 0.8, line_image, 1, 1)\n",
        "            cv2.imshow(\"result\", combo_image)\n",
        "            if cv2.waitKey(1) & 0xFF == ord('q'):\n",
        "                break\n",
        "cap.release()\n",
        "cv2.waitKey(0)\n",
        "cv2.destroyAllWindows()"
      ],
      "metadata": {
        "id": "IH9j05HBwYI4"
      },
      "execution_count": null,
      "outputs": []
    }
  ]
}